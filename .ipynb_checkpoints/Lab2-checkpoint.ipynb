{
 "cells": [
  {
   "cell_type": "code",
   "execution_count": 2,
   "metadata": {},
   "outputs": [
    {
     "name": "stderr",
     "output_type": "stream",
     "text": [
      "/Users/alisa/anaconda3/envs/my_env_pc/lib/python3.5/importlib/_bootstrap.py:222: RuntimeWarning: compiletime version 3.6 of module 'tensorflow.python.framework.fast_tensor_util' does not match runtime version 3.5\n",
      "  return f(*args, **kwds)\n",
      "Using TensorFlow backend.\n"
     ]
    }
   ],
   "source": [
    "import tensorflow\n",
    "from keras.models import Sequential\n",
    "from keras.layers import Dense\n",
    "from keras.layers import Dropout\n",
    "from keras.utils import np_utils\n",
    "from keras.callbacks import EarlyStopping  "
   ]
  },
  {
   "cell_type": "code",
   "execution_count": 3,
   "metadata": {},
   "outputs": [],
   "source": [
    "from keras.layers.normalization import BatchNormalization"
   ]
  },
  {
   "cell_type": "code",
   "execution_count": 4,
   "metadata": {},
   "outputs": [],
   "source": [
    "import numpy as np\n",
    "import matplotlib.pyplot as plt"
   ]
  },
  {
   "cell_type": "code",
   "execution_count": 5,
   "metadata": {},
   "outputs": [],
   "source": [
    "from keras.datasets import mnist"
   ]
  },
  {
   "cell_type": "code",
   "execution_count": 6,
   "metadata": {},
   "outputs": [],
   "source": [
    "seed = 7\n",
    "np.random.seed(seed)\n",
    "\n",
    "(X_train, y_train), (X_test, y_test) = mnist.load_data()\n",
    "num_pixels = X_train.shape[1] * X_train.shape[2]"
   ]
  },
  {
   "cell_type": "code",
   "execution_count": 7,
   "metadata": {},
   "outputs": [],
   "source": [
    "train_mask = np.isin(y_train, list(range(0, 5)))\n",
    "test_mask = np.isin(y_test, list(range(0, 5)))"
   ]
  },
  {
   "cell_type": "code",
   "execution_count": 8,
   "metadata": {},
   "outputs": [],
   "source": [
    "X_train, y_train = X_train[train_mask], y_train[train_mask]\n",
    "X_test, y_test = X_test[test_mask], y_test[test_mask]"
   ]
  },
  {
   "cell_type": "code",
   "execution_count": 9,
   "metadata": {},
   "outputs": [],
   "source": [
    "X_train = X_train.reshape(X_train.shape[0], num_pixels).astype('float32')\n",
    "X_test = X_test.reshape(X_test.shape[0], num_pixels).astype('float32')\n",
    "\n",
    "X_train = X_train/255\n",
    "X_test = X_test/255\n",
    "\n",
    "y_train = np_utils.to_categorical(y_train)\n",
    "y_test = np_utils.to_categorical(y_test)\n",
    "\n",
    "num_classes = y_test.shape[1]"
   ]
  },
  {
   "cell_type": "code",
   "execution_count": 10,
   "metadata": {},
   "outputs": [
    {
     "data": {
      "text/plain": [
       "5"
      ]
     },
     "execution_count": 10,
     "metadata": {},
     "output_type": "execute_result"
    }
   ],
   "source": [
    "num_classes"
   ]
  },
  {
   "cell_type": "code",
   "execution_count": 45,
   "metadata": {},
   "outputs": [],
   "source": [
    "def model_1():\n",
    "    model = Sequential()\n",
    "    model.add(Dense(100, activation='relu', input_dim=num_pixels, kernel_initializer='he_normal'))\n",
    "    model.add(Dense(100, activation='relu', kernel_initializer='he_normal'))\n",
    "    model.add(Dense(100, activation='relu', kernel_initializer='he_normal'))\n",
    "    model.add(Dense(100, activation='relu', kernel_initializer='he_normal'))\n",
    "    model.add(Dense(100, activation='relu', kernel_initializer='he_normal'))\n",
    "    #model.add(BatchNormalization())\n",
    "    model.add(Dense(num_classes, activation='softmax'))\n",
    "    model.compile(loss='categorical_crossentropy',\n",
    "                  #optimizer=keras.optimizers.Adam(lr=0.001, beta_1=0.9, beta_2=0.999, epsilon=None, decay=0.0, amsgrad=False)\n",
    "              optimizer='adam',\n",
    "              metrics=['accuracy'])\n",
    "    \n",
    "    return model"
   ]
  },
  {
   "cell_type": "code",
   "execution_count": 46,
   "metadata": {},
   "outputs": [],
   "source": [
    "def model_2():\n",
    "    model = Sequential()\n",
    "    model.add(Dense(100, activation='relu', input_dim=num_pixels, kernel_initializer='he_normal'))\n",
    "    model.add(Dense(100, activation='relu', kernel_initializer='he_normal'))\n",
    "    model.add(Dense(100, activation='relu', kernel_initializer='he_normal'))\n",
    "    model.add(Dense(100, activation='relu', kernel_initializer='he_normal'))\n",
    "    model.add(Dense(100, activation='relu', kernel_initializer='he_normal'))\n",
    "    model.add(BatchNormalization())\n",
    "    model.add(Dense(num_classes, activation='softmax'))\n",
    "    model.compile(loss='categorical_crossentropy',\n",
    "                  #optimizer=keras.optimizers.Adam(lr=0.001, beta_1=0.9, beta_2=0.999, epsilon=None, decay=0.0, amsgrad=False)\n",
    "              optimizer='adam',\n",
    "              metrics=['accuracy'])\n",
    "    \n",
    "    return model"
   ]
  },
  {
   "cell_type": "code",
   "execution_count": 78,
   "metadata": {},
   "outputs": [],
   "source": [
    "def model_3():\n",
    "    model = Sequential()\n",
    "    model.add(Dense(100, activation='relu', input_dim=num_pixels, kernel_initializer='he_normal'))\n",
    "    model.add(Dropout(0.5))\n",
    "    model.add(Dense(100, activation='relu', kernel_initializer='he_normal'))\n",
    "    model.add(Dropout(0.5))\n",
    "    model.add(Dense(100, activation='relu', kernel_initializer='he_normal'))\n",
    "    model.add(Dropout(0.5))\n",
    "    model.add(Dense(100, activation='relu', kernel_initializer='he_normal'))\n",
    "    model.add(Dropout(0.5))\n",
    "    model.add(Dense(100, activation='relu', kernel_initializer='he_normal'))\n",
    "    #model.add(Dropout(0.5))\n",
    "    model.add(BatchNormalization())\n",
    "    model.add(Dense(num_classes, activation='softmax'))\n",
    "    model.compile(loss='categorical_crossentropy',\n",
    "                  #optimizer=keras.optimizers.Adam(lr=0.001, beta_1=0.9, beta_2=0.999, epsilon=None, decay=0.0, amsgrad=False)\n",
    "              optimizer='adam',\n",
    "              metrics=['accuracy'])\n",
    "    \n",
    "    return model"
   ]
  },
  {
   "cell_type": "code",
   "execution_count": 63,
   "metadata": {},
   "outputs": [],
   "source": [
    "#es = EarlyStopping(monitor='val_loss', mode='min', verbose=1)\n",
    "#es = EarlyStopping(monitor='val_loss', mode='min', verbose=1, patience=50)\n",
    "#es = EarlyStopping(monitor='val_loss', mode='min', baseline=0.9)\n",
    "es = EarlyStopping(monitor='val_acc', mode='max', min_delta=0.001, patience=50)"
   ]
  },
  {
   "cell_type": "markdown",
   "metadata": {},
   "source": [
    "## 1. Deep Learning"
   ]
  },
  {
   "cell_type": "markdown",
   "metadata": {},
   "source": [
    "1. Build a DNN with five hidden layers of 100 neurons each, He initialization, and the ELU\n",
    "activation function.\n",
    "2. Using Adam optimization and early stopping, try training it on MNIST but only on digits 0\n",
    "to 4, as we will use transfer learning for digits 5 to 9 in the next exercise. You will need a\n",
    "softmax output layer with five neurons.\n",
    "3. Tune the hyperparameters using cross-validation and see what precision you can\n",
    "achieve."
   ]
  },
  {
   "cell_type": "code",
   "execution_count": 64,
   "metadata": {},
   "outputs": [
    {
     "name": "stdout",
     "output_type": "stream",
     "text": [
      "Train on 30596 samples, validate on 5139 samples\n",
      "Epoch 1/300\n",
      " - 3s - loss: 0.1421 - acc: 0.9572 - val_loss: 0.0542 - val_acc: 0.9815\n",
      "Epoch 2/300\n",
      " - 2s - loss: 0.0464 - acc: 0.9853 - val_loss: 0.0270 - val_acc: 0.9922\n",
      "Epoch 3/300\n",
      " - 2s - loss: 0.0283 - acc: 0.9909 - val_loss: 0.0212 - val_acc: 0.9924\n",
      "Epoch 4/300\n",
      " - 2s - loss: 0.0232 - acc: 0.9926 - val_loss: 0.0255 - val_acc: 0.9910\n",
      "Epoch 5/300\n",
      " - 2s - loss: 0.0149 - acc: 0.9952 - val_loss: 0.0285 - val_acc: 0.9910\n",
      "Epoch 6/300\n",
      " - 2s - loss: 0.0132 - acc: 0.9957 - val_loss: 0.0429 - val_acc: 0.9889\n",
      "Epoch 7/300\n",
      " - 2s - loss: 0.0112 - acc: 0.9967 - val_loss: 0.0263 - val_acc: 0.9928\n",
      "Epoch 8/300\n",
      " - 2s - loss: 0.0128 - acc: 0.9960 - val_loss: 0.0345 - val_acc: 0.9895\n",
      "Epoch 9/300\n",
      " - 2s - loss: 0.0069 - acc: 0.9978 - val_loss: 0.0275 - val_acc: 0.9930\n",
      "Epoch 10/300\n",
      " - 2s - loss: 0.0088 - acc: 0.9973 - val_loss: 0.0211 - val_acc: 0.9944\n",
      "Epoch 11/300\n",
      " - 2s - loss: 0.0045 - acc: 0.9987 - val_loss: 0.0305 - val_acc: 0.9924\n",
      "Epoch 12/300\n",
      " - 2s - loss: 0.0102 - acc: 0.9966 - val_loss: 0.0245 - val_acc: 0.9922\n",
      "Epoch 13/300\n",
      " - 2s - loss: 0.0055 - acc: 0.9984 - val_loss: 0.0295 - val_acc: 0.9924\n",
      "Epoch 14/300\n",
      " - 2s - loss: 0.0057 - acc: 0.9981 - val_loss: 0.0223 - val_acc: 0.9946\n",
      "Epoch 15/300\n",
      " - 2s - loss: 0.0048 - acc: 0.9984 - val_loss: 0.0375 - val_acc: 0.9926\n",
      "Epoch 16/300\n",
      " - 2s - loss: 0.0092 - acc: 0.9970 - val_loss: 0.0302 - val_acc: 0.9926\n",
      "Epoch 17/300\n",
      " - 2s - loss: 0.0068 - acc: 0.9982 - val_loss: 0.0431 - val_acc: 0.9907\n",
      "Epoch 18/300\n",
      " - 2s - loss: 0.0035 - acc: 0.9989 - val_loss: 0.0281 - val_acc: 0.9928\n",
      "Epoch 19/300\n",
      " - 2s - loss: 0.0061 - acc: 0.9985 - val_loss: 0.0552 - val_acc: 0.9874\n",
      "Epoch 20/300\n",
      " - 2s - loss: 0.0065 - acc: 0.9983 - val_loss: 0.0215 - val_acc: 0.9951\n",
      "Epoch 21/300\n",
      " - 2s - loss: 0.0031 - acc: 0.9991 - val_loss: 0.0265 - val_acc: 0.9936\n",
      "Epoch 22/300\n",
      " - 2s - loss: 0.0043 - acc: 0.9985 - val_loss: 0.0276 - val_acc: 0.9928\n",
      "Epoch 23/300\n",
      " - 2s - loss: 8.1559e-04 - acc: 0.9997 - val_loss: 0.0201 - val_acc: 0.9957\n",
      "Epoch 24/300\n",
      " - 2s - loss: 0.0079 - acc: 0.9978 - val_loss: 0.0465 - val_acc: 0.9903\n",
      "Epoch 25/300\n",
      " - 2s - loss: 0.0057 - acc: 0.9985 - val_loss: 0.0359 - val_acc: 0.9910\n",
      "Epoch 26/300\n",
      " - 2s - loss: 0.0020 - acc: 0.9996 - val_loss: 0.0269 - val_acc: 0.9947\n",
      "Epoch 27/300\n",
      " - 2s - loss: 0.0028 - acc: 0.9993 - val_loss: 0.0325 - val_acc: 0.9918\n",
      "Epoch 28/300\n",
      " - 2s - loss: 7.7296e-04 - acc: 0.9998 - val_loss: 0.0232 - val_acc: 0.9961\n",
      "Epoch 29/300\n",
      " - 2s - loss: 1.0041e-04 - acc: 1.0000 - val_loss: 0.0266 - val_acc: 0.9957\n",
      "Epoch 30/300\n",
      " - 2s - loss: 2.3411e-05 - acc: 1.0000 - val_loss: 0.0290 - val_acc: 0.9953\n",
      "Epoch 31/300\n",
      " - 2s - loss: 2.7976e-05 - acc: 1.0000 - val_loss: 0.0219 - val_acc: 0.9957\n",
      "Epoch 32/300\n",
      " - 2s - loss: 1.2837e-05 - acc: 1.0000 - val_loss: 0.0242 - val_acc: 0.9963\n",
      "Epoch 33/300\n",
      " - 2s - loss: 5.1328e-06 - acc: 1.0000 - val_loss: 0.0241 - val_acc: 0.9959\n",
      "Epoch 34/300\n",
      " - 2s - loss: 3.1306e-06 - acc: 1.0000 - val_loss: 0.0241 - val_acc: 0.9959\n",
      "Epoch 35/300\n",
      " - 2s - loss: 2.3638e-06 - acc: 1.0000 - val_loss: 0.0244 - val_acc: 0.9959\n",
      "Epoch 36/300\n",
      " - 2s - loss: 1.9338e-06 - acc: 1.0000 - val_loss: 0.0246 - val_acc: 0.9961\n",
      "Epoch 37/300\n",
      " - 2s - loss: 1.6042e-06 - acc: 1.0000 - val_loss: 0.0248 - val_acc: 0.9961\n",
      "Epoch 38/300\n",
      " - 2s - loss: 1.3479e-06 - acc: 1.0000 - val_loss: 0.0250 - val_acc: 0.9963\n",
      "Epoch 39/300\n",
      " - 2s - loss: 1.1365e-06 - acc: 1.0000 - val_loss: 0.0252 - val_acc: 0.9965\n",
      "Epoch 40/300\n",
      " - 2s - loss: 9.6373e-07 - acc: 1.0000 - val_loss: 0.0254 - val_acc: 0.9965\n",
      "Epoch 41/300\n",
      " - 2s - loss: 8.2123e-07 - acc: 1.0000 - val_loss: 0.0256 - val_acc: 0.9965\n",
      "Epoch 42/300\n",
      " - 2s - loss: 7.0464e-07 - acc: 1.0000 - val_loss: 0.0258 - val_acc: 0.9965\n",
      "Epoch 43/300\n",
      " - 2s - loss: 6.0779e-07 - acc: 1.0000 - val_loss: 0.0260 - val_acc: 0.9967\n",
      "Epoch 44/300\n",
      " - 2s - loss: 5.2746e-07 - acc: 1.0000 - val_loss: 0.0262 - val_acc: 0.9967\n",
      "Epoch 45/300\n",
      " - 2s - loss: 4.5978e-07 - acc: 1.0000 - val_loss: 0.0264 - val_acc: 0.9967\n",
      "Epoch 46/300\n",
      " - 2s - loss: 4.0439e-07 - acc: 1.0000 - val_loss: 0.0265 - val_acc: 0.9967\n",
      "Epoch 47/300\n",
      " - 2s - loss: 3.5839e-07 - acc: 1.0000 - val_loss: 0.0267 - val_acc: 0.9967\n",
      "Epoch 48/300\n",
      " - 2s - loss: 3.1941e-07 - acc: 1.0000 - val_loss: 0.0269 - val_acc: 0.9967\n",
      "Epoch 49/300\n",
      " - 2s - loss: 2.8604e-07 - acc: 1.0000 - val_loss: 0.0271 - val_acc: 0.9967\n",
      "Epoch 50/300\n",
      " - 2s - loss: 2.5929e-07 - acc: 1.0000 - val_loss: 0.0274 - val_acc: 0.9967\n",
      "Epoch 51/300\n",
      " - 2s - loss: 2.3604e-07 - acc: 1.0000 - val_loss: 0.0276 - val_acc: 0.9967\n",
      "Epoch 52/300\n",
      " - 2s - loss: 2.1653e-07 - acc: 1.0000 - val_loss: 0.0278 - val_acc: 0.9967\n",
      "Epoch 53/300\n",
      " - 2s - loss: 2.0010e-07 - acc: 1.0000 - val_loss: 0.0280 - val_acc: 0.9967\n",
      "Epoch 54/300\n",
      " - 2s - loss: 1.8663e-07 - acc: 1.0000 - val_loss: 0.0282 - val_acc: 0.9967\n",
      "Epoch 55/300\n",
      " - 2s - loss: 1.7546e-07 - acc: 1.0000 - val_loss: 0.0284 - val_acc: 0.9967\n",
      "Epoch 56/300\n",
      " - 2s - loss: 1.6601e-07 - acc: 1.0000 - val_loss: 0.0286 - val_acc: 0.9967\n",
      "Epoch 57/300\n",
      " - 2s - loss: 1.5822e-07 - acc: 1.0000 - val_loss: 0.0288 - val_acc: 0.9967\n",
      "Epoch 58/300\n",
      " - 2s - loss: 1.5165e-07 - acc: 1.0000 - val_loss: 0.0290 - val_acc: 0.9967\n",
      "Epoch 59/300\n",
      " - 2s - loss: 1.4617e-07 - acc: 1.0000 - val_loss: 0.0292 - val_acc: 0.9967\n",
      "Epoch 60/300\n",
      " - 2s - loss: 1.4162e-07 - acc: 1.0000 - val_loss: 0.0294 - val_acc: 0.9967\n",
      "Epoch 61/300\n",
      " - 2s - loss: 1.3796e-07 - acc: 1.0000 - val_loss: 0.0296 - val_acc: 0.9967\n",
      "Epoch 62/300\n",
      " - 2s - loss: 1.3476e-07 - acc: 1.0000 - val_loss: 0.0298 - val_acc: 0.9967\n",
      "Epoch 63/300\n",
      " - 2s - loss: 1.3214e-07 - acc: 1.0000 - val_loss: 0.0300 - val_acc: 0.9967\n",
      "Epoch 64/300\n",
      " - 2s - loss: 1.2992e-07 - acc: 1.0000 - val_loss: 0.0303 - val_acc: 0.9967\n",
      "Epoch 65/300\n",
      " - 2s - loss: 1.2805e-07 - acc: 1.0000 - val_loss: 0.0305 - val_acc: 0.9967\n",
      "Epoch 66/300\n",
      " - 2s - loss: 1.2656e-07 - acc: 1.0000 - val_loss: 0.0306 - val_acc: 0.9967\n",
      "Epoch 67/300\n",
      " - 2s - loss: 1.2527e-07 - acc: 1.0000 - val_loss: 0.0308 - val_acc: 0.9967\n",
      "Epoch 68/300\n",
      " - 2s - loss: 1.2424e-07 - acc: 1.0000 - val_loss: 0.0310 - val_acc: 0.9967\n",
      "Epoch 69/300\n",
      " - 2s - loss: 1.2337e-07 - acc: 1.0000 - val_loss: 0.0311 - val_acc: 0.9967\n",
      "Epoch 70/300\n",
      " - 2s - loss: 1.2263e-07 - acc: 1.0000 - val_loss: 0.0313 - val_acc: 0.9967\n",
      "Epoch 71/300\n",
      " - 2s - loss: 1.2201e-07 - acc: 1.0000 - val_loss: 0.0314 - val_acc: 0.9967\n",
      "Epoch 72/300\n",
      " - 2s - loss: 1.2152e-07 - acc: 1.0000 - val_loss: 0.0316 - val_acc: 0.9967\n",
      "Epoch 73/300\n",
      " - 2s - loss: 1.2113e-07 - acc: 1.0000 - val_loss: 0.0317 - val_acc: 0.9967\n",
      "Baseline Error: 0.33%\n"
     ]
    }
   ],
   "source": [
    "model = model_1()\n",
    "history = model.fit(X_train, y_train, validation_data=(X_test, y_test), epochs=300, batch_size=100, verbose=2, callbacks=[es])\n",
    "# Final evaluation of the model\n",
    "scores = model.evaluate(X_test, y_test, verbose=0)\n",
    "print(\"Baseline Error: %.2f%%\" % (100-scores[1]*100))"
   ]
  },
  {
   "cell_type": "code",
   "execution_count": 65,
   "metadata": {},
   "outputs": [
    {
     "name": "stdout",
     "output_type": "stream",
     "text": [
      "dict_keys(['acc', 'val_loss', 'val_acc', 'loss'])\n"
     ]
    }
   ],
   "source": [
    "print(history.history.keys())"
   ]
  },
  {
   "cell_type": "code",
   "execution_count": 66,
   "metadata": {},
   "outputs": [
    {
     "data": {
      "text/plain": [
       "<matplotlib.legend.Legend at 0xb3001a2e8>"
      ]
     },
     "execution_count": 66,
     "metadata": {},
     "output_type": "execute_result"
    },
    {
     "data": {
      "image/png": "[encoded data removed]",
      "text/plain": [
       "<Figure size 432x288 with 1 Axes>"
      ]
     },
     "metadata": {
      "needs_background": "light"
     },
     "output_type": "display_data"
    }
   ],
   "source": [
    "plt.figure(1)\n",
    "\n",
    "#history of accuracy\n",
    "plt.subplot(211)\n",
    "plt.plot(history.history['acc'])\n",
    "plt.plot(history.history['val_acc'])\n",
    "plt.title('model accuracy')\n",
    "plt.ylabel('accuracy')\n",
    "plt.xlabel('epoch')  \n",
    "plt.legend(['train', 'test'], loc='upper left')  "
   ]
  },
  {
   "cell_type": "code",
   "execution_count": 67,
   "metadata": {},
   "outputs": [
    {
     "data": {
      "image/png": "[encoded data removed]",
      "text/plain": [
       "<Figure size 432x288 with 1 Axes>"
      ]
     },
     "metadata": {
      "needs_background": "light"
     },
     "output_type": "display_data"
    }
   ],
   "source": [
    "plt.figure(1)\n",
    "\n",
    "#history of loss\n",
    "plt.subplot(212)  \n",
    "plt.plot(history.history['loss'])  \n",
    "plt.plot(history.history['val_loss'])  \n",
    "plt.title('model loss')  \n",
    "plt.ylabel('loss')  \n",
    "plt.xlabel('epoch')  \n",
    "plt.legend(['train', 'test'], loc='upper left')  \n",
    "plt.show()  "
   ]
  },
  {
   "cell_type": "code",
   "execution_count": null,
   "metadata": {},
   "outputs": [],
   "source": [
    "The above graph shows overfitting."
   ]
  },
  {
   "cell_type": "markdown",
   "metadata": {},
   "source": [
    "4. Now try adding Batch Normalization and compare the learning curves: is it converging\n",
    "faster than before? Does it produce a better model?"
   ]
  },
  {
   "cell_type": "code",
   "execution_count": 70,
   "metadata": {},
   "outputs": [
    {
     "name": "stdout",
     "output_type": "stream",
     "text": [
      "Train on 30596 samples, validate on 5139 samples\n",
      "Epoch 1/300\n",
      " - 4s - loss: 0.1205 - acc: 0.9622 - val_loss: 0.0491 - val_acc: 0.9854\n",
      "Epoch 2/300\n",
      " - 2s - loss: 0.0450 - acc: 0.9869 - val_loss: 0.0508 - val_acc: 0.9844\n",
      "Epoch 3/300\n",
      " - 2s - loss: 0.0274 - acc: 0.9915 - val_loss: 0.0266 - val_acc: 0.9920\n",
      "Epoch 4/300\n",
      " - 2s - loss: 0.0192 - acc: 0.9939 - val_loss: 0.0470 - val_acc: 0.9856\n",
      "Epoch 5/300\n",
      " - 2s - loss: 0.0175 - acc: 0.9945 - val_loss: 0.0271 - val_acc: 0.9912\n",
      "Epoch 6/300\n",
      " - 2s - loss: 0.0114 - acc: 0.9965 - val_loss: 0.0834 - val_acc: 0.9755\n",
      "Epoch 7/300\n",
      " - 2s - loss: 0.0100 - acc: 0.9966 - val_loss: 0.0318 - val_acc: 0.9905\n",
      "Epoch 8/300\n",
      " - 2s - loss: 0.0111 - acc: 0.9961 - val_loss: 0.0384 - val_acc: 0.9889\n",
      "Epoch 9/300\n",
      " - 2s - loss: 0.0104 - acc: 0.9964 - val_loss: 0.0326 - val_acc: 0.9907\n",
      "Epoch 10/300\n",
      " - 2s - loss: 0.0049 - acc: 0.9983 - val_loss: 0.0345 - val_acc: 0.9905\n",
      "Epoch 11/300\n",
      " - 2s - loss: 0.0064 - acc: 0.9980 - val_loss: 0.0582 - val_acc: 0.9860\n",
      "Epoch 12/300\n",
      " - 2s - loss: 0.0072 - acc: 0.9977 - val_loss: 0.0355 - val_acc: 0.9903\n",
      "Epoch 13/300\n",
      " - 2s - loss: 0.0065 - acc: 0.9980 - val_loss: 0.0371 - val_acc: 0.9905\n",
      "Epoch 14/300\n",
      " - 2s - loss: 0.0063 - acc: 0.9978 - val_loss: 0.0434 - val_acc: 0.9903\n",
      "Epoch 15/300\n",
      " - 2s - loss: 0.0078 - acc: 0.9979 - val_loss: 0.0287 - val_acc: 0.9926\n",
      "Epoch 16/300\n",
      " - 2s - loss: 0.0015 - acc: 0.9997 - val_loss: 0.0302 - val_acc: 0.9922\n",
      "Epoch 17/300\n",
      " - 2s - loss: 0.0021 - acc: 0.9994 - val_loss: 0.0344 - val_acc: 0.9914\n",
      "Epoch 18/300\n",
      " - 2s - loss: 0.0036 - acc: 0.9991 - val_loss: 0.0392 - val_acc: 0.9903\n",
      "Epoch 19/300\n",
      " - 2s - loss: 0.0084 - acc: 0.9973 - val_loss: 0.0453 - val_acc: 0.9883\n",
      "Epoch 20/300\n",
      " - 2s - loss: 0.0061 - acc: 0.9979 - val_loss: 0.0343 - val_acc: 0.9910\n",
      "Epoch 21/300\n",
      " - 2s - loss: 0.0030 - acc: 0.9990 - val_loss: 0.0368 - val_acc: 0.9914\n",
      "Epoch 22/300\n",
      " - 2s - loss: 0.0039 - acc: 0.9987 - val_loss: 0.0237 - val_acc: 0.9930\n",
      "Epoch 23/300\n",
      " - 2s - loss: 0.0021 - acc: 0.9993 - val_loss: 0.0280 - val_acc: 0.9924\n",
      "Epoch 24/300\n",
      " - 2s - loss: 0.0046 - acc: 0.9984 - val_loss: 0.0307 - val_acc: 0.9924\n",
      "Epoch 25/300\n",
      " - 2s - loss: 0.0051 - acc: 0.9981 - val_loss: 0.0290 - val_acc: 0.9928\n",
      "Epoch 26/300\n",
      " - 2s - loss: 0.0023 - acc: 0.9992 - val_loss: 0.0231 - val_acc: 0.9936\n",
      "Epoch 27/300\n",
      " - 2s - loss: 0.0013 - acc: 0.9996 - val_loss: 0.0275 - val_acc: 0.9920\n",
      "Epoch 28/300\n",
      " - 2s - loss: 0.0027 - acc: 0.9992 - val_loss: 0.0399 - val_acc: 0.9903\n",
      "Epoch 29/300\n",
      " - 2s - loss: 0.0055 - acc: 0.9981 - val_loss: 0.0251 - val_acc: 0.9928\n",
      "Epoch 30/300\n",
      " - 2s - loss: 0.0030 - acc: 0.9990 - val_loss: 0.0351 - val_acc: 0.9910\n",
      "Epoch 31/300\n",
      " - 2s - loss: 0.0011 - acc: 0.9996 - val_loss: 0.0440 - val_acc: 0.9914\n",
      "Epoch 32/300\n",
      " - 2s - loss: 2.1918e-04 - acc: 0.9999 - val_loss: 0.0261 - val_acc: 0.9928\n",
      "Epoch 33/300\n",
      " - 2s - loss: 0.0031 - acc: 0.9990 - val_loss: 0.0447 - val_acc: 0.9918\n",
      "Epoch 34/300\n",
      " - 2s - loss: 0.0055 - acc: 0.9982 - val_loss: 0.0405 - val_acc: 0.9918\n",
      "Epoch 35/300\n",
      " - 2s - loss: 0.0032 - acc: 0.9991 - val_loss: 0.0303 - val_acc: 0.9920\n",
      "Epoch 36/300\n",
      " - 2s - loss: 0.0012 - acc: 0.9996 - val_loss: 0.0273 - val_acc: 0.9926\n",
      "Epoch 37/300\n",
      " - 2s - loss: 2.2371e-04 - acc: 1.0000 - val_loss: 0.0276 - val_acc: 0.9940\n",
      "Epoch 38/300\n",
      " - 2s - loss: 3.4885e-04 - acc: 0.9999 - val_loss: 0.0241 - val_acc: 0.9947\n",
      "Epoch 39/300\n",
      " - 2s - loss: 1.6805e-04 - acc: 1.0000 - val_loss: 0.0245 - val_acc: 0.9942\n",
      "Epoch 40/300\n",
      " - 2s - loss: 0.0029 - acc: 0.9992 - val_loss: 0.0442 - val_acc: 0.9910\n",
      "Epoch 41/300\n",
      " - 2s - loss: 0.0072 - acc: 0.9972 - val_loss: 0.0270 - val_acc: 0.9938\n",
      "Epoch 42/300\n",
      " - 2s - loss: 0.0039 - acc: 0.9988 - val_loss: 0.0231 - val_acc: 0.9944\n",
      "Epoch 43/300\n",
      " - 2s - loss: 6.5619e-04 - acc: 0.9998 - val_loss: 0.0228 - val_acc: 0.9942\n",
      "Epoch 44/300\n",
      " - 2s - loss: 1.8623e-04 - acc: 0.9999 - val_loss: 0.0223 - val_acc: 0.9942\n",
      "Epoch 45/300\n",
      " - 2s - loss: 7.2729e-05 - acc: 1.0000 - val_loss: 0.0230 - val_acc: 0.9944\n",
      "Epoch 46/300\n",
      " - 2s - loss: 4.4693e-05 - acc: 1.0000 - val_loss: 0.0225 - val_acc: 0.9947\n",
      "Epoch 47/300\n",
      " - 2s - loss: 2.7176e-05 - acc: 1.0000 - val_loss: 0.0237 - val_acc: 0.9947\n",
      "Epoch 48/300\n",
      " - 2s - loss: 2.3679e-05 - acc: 1.0000 - val_loss: 0.0240 - val_acc: 0.9946\n",
      "Epoch 49/300\n",
      " - 2s - loss: 1.7649e-05 - acc: 1.0000 - val_loss: 0.0239 - val_acc: 0.9946\n",
      "Epoch 50/300\n",
      " - 2s - loss: 1.3328e-05 - acc: 1.0000 - val_loss: 0.0243 - val_acc: 0.9947\n",
      "Epoch 51/300\n",
      " - 2s - loss: 1.1188e-05 - acc: 1.0000 - val_loss: 0.0246 - val_acc: 0.9946\n",
      "Epoch 52/300\n",
      " - 2s - loss: 8.5250e-06 - acc: 1.0000 - val_loss: 0.0248 - val_acc: 0.9946\n",
      "Epoch 53/300\n",
      " - 2s - loss: 9.5180e-06 - acc: 1.0000 - val_loss: 0.0264 - val_acc: 0.9946\n",
      "Epoch 54/300\n",
      " - 2s - loss: 6.9646e-06 - acc: 1.0000 - val_loss: 0.0267 - val_acc: 0.9944\n",
      "Epoch 55/300\n",
      " - 2s - loss: 4.5213e-06 - acc: 1.0000 - val_loss: 0.0270 - val_acc: 0.9944\n",
      "Epoch 56/300\n",
      " - 2s - loss: 3.6246e-06 - acc: 1.0000 - val_loss: 0.0281 - val_acc: 0.9944\n",
      "Epoch 57/300\n",
      " - 2s - loss: 4.8343e-06 - acc: 1.0000 - val_loss: 0.0276 - val_acc: 0.9942\n",
      "Epoch 58/300\n",
      " - 2s - loss: 3.1854e-06 - acc: 1.0000 - val_loss: 0.0285 - val_acc: 0.9944\n",
      "Epoch 59/300\n",
      " - 2s - loss: 2.4456e-06 - acc: 1.0000 - val_loss: 0.0284 - val_acc: 0.9942\n",
      "Epoch 60/300\n",
      " - 2s - loss: 2.3403e-06 - acc: 1.0000 - val_loss: 0.0296 - val_acc: 0.9940\n",
      "Epoch 61/300\n",
      " - 2s - loss: 2.0397e-06 - acc: 1.0000 - val_loss: 0.0296 - val_acc: 0.9942\n",
      "Epoch 62/300\n",
      " - 2s - loss: 1.7177e-06 - acc: 1.0000 - val_loss: 0.0297 - val_acc: 0.9940\n",
      "Epoch 63/300\n",
      " - 2s - loss: 1.4651e-06 - acc: 1.0000 - val_loss: 0.0301 - val_acc: 0.9942\n",
      "Epoch 64/300\n",
      " - 2s - loss: 1.6549e-06 - acc: 1.0000 - val_loss: 0.0296 - val_acc: 0.9940\n",
      "Epoch 65/300\n",
      " - 2s - loss: 9.9900e-07 - acc: 1.0000 - val_loss: 0.0302 - val_acc: 0.9942\n",
      "Epoch 66/300\n",
      " - 2s - loss: 1.5434e-06 - acc: 1.0000 - val_loss: 0.0303 - val_acc: 0.9940\n",
      "Epoch 67/300\n",
      " - 2s - loss: 8.4058e-07 - acc: 1.0000 - val_loss: 0.0308 - val_acc: 0.9942\n",
      "Epoch 68/300\n",
      " - 2s - loss: 8.5607e-07 - acc: 1.0000 - val_loss: 0.0318 - val_acc: 0.9946\n",
      "Epoch 69/300\n",
      " - 2s - loss: 5.6318e-07 - acc: 1.0000 - val_loss: 0.0324 - val_acc: 0.9942\n",
      "Epoch 70/300\n",
      " - 2s - loss: 7.9927e-07 - acc: 1.0000 - val_loss: 0.0321 - val_acc: 0.9946\n",
      "Epoch 71/300\n",
      " - 2s - loss: 4.3604e-07 - acc: 1.0000 - val_loss: 0.0328 - val_acc: 0.9942\n",
      "Epoch 72/300\n",
      " - 2s - loss: 4.0436e-07 - acc: 1.0000 - val_loss: 0.0332 - val_acc: 0.9942\n",
      "Epoch 73/300\n",
      " - 2s - loss: 1.0200e-06 - acc: 1.0000 - val_loss: 0.0376 - val_acc: 0.9934\n",
      "Epoch 74/300\n",
      " - 2s - loss: 0.0233 - acc: 0.9939 - val_loss: 0.0183 - val_acc: 0.9953\n",
      "Epoch 75/300\n",
      " - 2s - loss: 0.0021 - acc: 0.9994 - val_loss: 0.0232 - val_acc: 0.9944\n",
      "Epoch 76/300\n",
      " - 2s - loss: 0.0011 - acc: 0.9995 - val_loss: 0.0243 - val_acc: 0.9938\n",
      "Epoch 77/300\n",
      " - 2s - loss: 0.0018 - acc: 0.9995 - val_loss: 0.0179 - val_acc: 0.9953\n",
      "Epoch 78/300\n",
      " - 2s - loss: 0.0023 - acc: 0.9993 - val_loss: 0.0318 - val_acc: 0.9930\n",
      "Epoch 79/300\n",
      " - 2s - loss: 0.0016 - acc: 0.9993 - val_loss: 0.0234 - val_acc: 0.9947\n",
      "Epoch 80/300\n",
      " - 2s - loss: 6.1673e-04 - acc: 0.9997 - val_loss: 0.0257 - val_acc: 0.9944\n",
      "Epoch 81/300\n",
      " - 2s - loss: 3.9020e-04 - acc: 0.9999 - val_loss: 0.0307 - val_acc: 0.9938\n",
      "Epoch 82/300\n",
      " - 2s - loss: 8.7134e-05 - acc: 1.0000 - val_loss: 0.0276 - val_acc: 0.9946\n",
      "Epoch 83/300\n",
      " - 2s - loss: 0.0018 - acc: 0.9995 - val_loss: 0.0258 - val_acc: 0.9940\n",
      "Epoch 84/300\n",
      " - 3s - loss: 0.0050 - acc: 0.9984 - val_loss: 0.0327 - val_acc: 0.9938\n",
      "Epoch 85/300\n",
      " - 2s - loss: 0.0014 - acc: 0.9995 - val_loss: 0.0313 - val_acc: 0.9938\n",
      "Epoch 86/300\n",
      " - 3s - loss: 0.0017 - acc: 0.9995 - val_loss: 0.0270 - val_acc: 0.9942\n",
      "Epoch 87/300\n",
      " - 2s - loss: 3.2549e-04 - acc: 0.9999 - val_loss: 0.0192 - val_acc: 0.9951\n",
      "Epoch 88/300\n",
      " - 2s - loss: 7.9484e-04 - acc: 0.9997 - val_loss: 0.0226 - val_acc: 0.9951\n",
      "Baseline Error: 0.49%\n"
     ]
    }
   ],
   "source": [
    "model2 = model_2()\n",
    "history2 = model2.fit(X_train, y_train, validation_data=(X_test, y_test), epochs=300, batch_size=100, verbose=2, callbacks=[es])\n",
    "# Final evaluation of the model\n",
    "scores2 = model2.evaluate(X_test, y_test, verbose=0)\n",
    "print(\"Baseline Error: %.2f%%\" % (100-scores2[1]*100))"
   ]
  },
  {
   "cell_type": "code",
   "execution_count": 73,
   "metadata": {},
   "outputs": [
    {
     "data": {
      "text/plain": [
       "<matplotlib.legend.Legend at 0xb31dcb9e8>"
      ]
     },
     "execution_count": 73,
     "metadata": {},
     "output_type": "execute_result"
    },
    {
     "data": {
      "image/png": "[encoded data removed]",
      "text/plain": [
       "<Figure size 432x288 with 1 Axes>"
      ]
     },
     "metadata": {
      "needs_background": "light"
     },
     "output_type": "display_data"
    }
   ],
   "source": [
    "plt.figure(1)\n",
    "\n",
    "#history of accuracy\n",
    "plt.subplot(211)\n",
    "plt.plot(history2.history['acc'])\n",
    "plt.plot(history2.history['val_acc'])\n",
    "plt.title('model accuracy')\n",
    "plt.ylabel('accuracy')\n",
    "plt.xlabel('epoch')  \n",
    "plt.legend(['train', 'test'], loc='upper left')  "
   ]
  },
  {
   "cell_type": "code",
   "execution_count": 74,
   "metadata": {},
   "outputs": [
    {
     "data": {
      "image/png": "[encoded data removed]",
      "text/plain": [
       "<Figure size 432x288 with 1 Axes>"
      ]
     },
     "metadata": {
      "needs_background": "light"
     },
     "output_type": "display_data"
    }
   ],
   "source": [
    "plt.figure(1)\n",
    "\n",
    "#history of loss\n",
    "plt.subplot(212)  \n",
    "plt.plot(history2.history['loss'])  \n",
    "plt.plot(history2.history['val_loss'])  \n",
    "plt.title('model loss')  \n",
    "plt.ylabel('loss')  \n",
    "plt.xlabel('epoch')  \n",
    "plt.legend(['train', 'test'], loc='upper left')  \n",
    "plt.show()  "
   ]
  },
  {
   "cell_type": "markdown",
   "metadata": {},
   "source": [
    "It takes more epochs to converge for the same network architecture but with the additional Batch Normalization layer inserted before the final FC layer. However the accuracy of the model is better. We still observe overfitting, however the graphs is getting flactuated unstead of converging unlike the 'model 1', so there is more hope."
   ]
  },
  {
   "cell_type": "markdown",
   "metadata": {},
   "source": [
    "In the above graphs we do not see neither the overfitting nor underfitting"
   ]
  },
  {
   "cell_type": "code",
   "execution_count": 79,
   "metadata": {},
   "outputs": [
    {
     "name": "stdout",
     "output_type": "stream",
     "text": [
      "Train on 30596 samples, validate on 5139 samples\n",
      "Epoch 1/300\n",
      " - 5s - loss: 0.8956 - acc: 0.6609 - val_loss: 0.1787 - val_acc: 0.9515\n",
      "Epoch 2/300\n",
      " - 2s - loss: 0.2799 - acc: 0.9176 - val_loss: 0.1167 - val_acc: 0.9726\n",
      "Epoch 3/300\n",
      " - 3s - loss: 0.1832 - acc: 0.9506 - val_loss: 0.0735 - val_acc: 0.9821\n",
      "Epoch 4/300\n",
      " - 3s - loss: 0.1489 - acc: 0.9611 - val_loss: 0.0633 - val_acc: 0.9831\n",
      "Epoch 5/300\n",
      " - 3s - loss: 0.1276 - acc: 0.9664 - val_loss: 0.0550 - val_acc: 0.9858\n",
      "Epoch 6/300\n",
      " - 2s - loss: 0.1144 - acc: 0.9705 - val_loss: 0.0538 - val_acc: 0.9856\n",
      "Epoch 7/300\n",
      " - 2s - loss: 0.1098 - acc: 0.9714 - val_loss: 0.0526 - val_acc: 0.9858\n",
      "Epoch 8/300\n",
      " - 2s - loss: 0.1042 - acc: 0.9723 - val_loss: 0.0549 - val_acc: 0.9846\n",
      "Epoch 9/300\n",
      " - 2s - loss: 0.0987 - acc: 0.9746 - val_loss: 0.0476 - val_acc: 0.9885\n",
      "Epoch 10/300\n",
      " - 2s - loss: 0.0915 - acc: 0.9767 - val_loss: 0.0502 - val_acc: 0.9875\n",
      "Epoch 11/300\n",
      " - 2s - loss: 0.0873 - acc: 0.9773 - val_loss: 0.0428 - val_acc: 0.9893\n",
      "Epoch 12/300\n",
      " - 2s - loss: 0.0854 - acc: 0.9777 - val_loss: 0.0445 - val_acc: 0.9874\n",
      "Epoch 13/300\n",
      " - 2s - loss: 0.0794 - acc: 0.9790 - val_loss: 0.0434 - val_acc: 0.9889\n",
      "Epoch 14/300\n",
      " - 2s - loss: 0.0783 - acc: 0.9797 - val_loss: 0.0446 - val_acc: 0.9879\n",
      "Epoch 15/300\n",
      " - 2s - loss: 0.0820 - acc: 0.9787 - val_loss: 0.0393 - val_acc: 0.9897\n",
      "Epoch 16/300\n",
      " - 2s - loss: 0.0736 - acc: 0.9808 - val_loss: 0.0423 - val_acc: 0.9893\n",
      "Epoch 17/300\n",
      " - 2s - loss: 0.0793 - acc: 0.9808 - val_loss: 0.0396 - val_acc: 0.9903\n",
      "Epoch 18/300\n",
      " - 2s - loss: 0.0742 - acc: 0.9816 - val_loss: 0.0358 - val_acc: 0.9903\n",
      "Epoch 19/300\n",
      " - 2s - loss: 0.0688 - acc: 0.9824 - val_loss: 0.0372 - val_acc: 0.9907\n",
      "Epoch 20/300\n",
      " - 2s - loss: 0.0675 - acc: 0.9828 - val_loss: 0.0364 - val_acc: 0.9912\n",
      "Epoch 21/300\n",
      " - 2s - loss: 0.0633 - acc: 0.9842 - val_loss: 0.0362 - val_acc: 0.9916\n",
      "Epoch 22/300\n",
      " - 2s - loss: 0.0659 - acc: 0.9833 - val_loss: 0.0375 - val_acc: 0.9907\n",
      "Epoch 23/300\n",
      " - 3s - loss: 0.0625 - acc: 0.9837 - val_loss: 0.0362 - val_acc: 0.9909\n",
      "Epoch 24/300\n",
      " - 3s - loss: 0.0612 - acc: 0.9848 - val_loss: 0.0386 - val_acc: 0.9895\n",
      "Epoch 25/300\n",
      " - 3s - loss: 0.0593 - acc: 0.9847 - val_loss: 0.0372 - val_acc: 0.9901\n",
      "Epoch 26/300\n",
      " - 3s - loss: 0.0563 - acc: 0.9852 - val_loss: 0.0379 - val_acc: 0.9903\n",
      "Epoch 27/300\n",
      " - 3s - loss: 0.0589 - acc: 0.9854 - val_loss: 0.0384 - val_acc: 0.9895\n",
      "Epoch 28/300\n",
      " - 3s - loss: 0.0570 - acc: 0.9853 - val_loss: 0.0342 - val_acc: 0.9914\n",
      "Epoch 29/300\n",
      " - 3s - loss: 0.0526 - acc: 0.9873 - val_loss: 0.0387 - val_acc: 0.9909\n",
      "Epoch 30/300\n",
      " - 2s - loss: 0.0580 - acc: 0.9848 - val_loss: 0.0385 - val_acc: 0.9907\n",
      "Epoch 31/300\n",
      " - 2s - loss: 0.0566 - acc: 0.9850 - val_loss: 0.0366 - val_acc: 0.9909\n",
      "Epoch 32/300\n",
      " - 2s - loss: 0.0525 - acc: 0.9866 - val_loss: 0.0367 - val_acc: 0.9903\n",
      "Epoch 33/300\n",
      " - 2s - loss: 0.0563 - acc: 0.9852 - val_loss: 0.0348 - val_acc: 0.9910\n",
      "Epoch 34/300\n",
      " - 2s - loss: 0.0504 - acc: 0.9878 - val_loss: 0.0371 - val_acc: 0.9897\n",
      "Epoch 35/300\n",
      " - 2s - loss: 0.0550 - acc: 0.9860 - val_loss: 0.0328 - val_acc: 0.9914\n",
      "Epoch 36/300\n",
      " - 2s - loss: 0.0522 - acc: 0.9879 - val_loss: 0.0372 - val_acc: 0.9903\n",
      "Epoch 37/300\n",
      " - 2s - loss: 0.0487 - acc: 0.9875 - val_loss: 0.0346 - val_acc: 0.9901\n",
      "Epoch 38/300\n",
      " - 2s - loss: 0.0504 - acc: 0.9872 - val_loss: 0.0353 - val_acc: 0.9910\n",
      "Epoch 39/300\n",
      " - 2s - loss: 0.0499 - acc: 0.9880 - val_loss: 0.0307 - val_acc: 0.9920\n",
      "Epoch 40/300\n",
      " - 2s - loss: 0.0504 - acc: 0.9871 - val_loss: 0.0337 - val_acc: 0.9903\n",
      "Epoch 41/300\n",
      " - 2s - loss: 0.0470 - acc: 0.9879 - val_loss: 0.0374 - val_acc: 0.9897\n",
      "Epoch 42/300\n",
      " - 2s - loss: 0.0451 - acc: 0.9888 - val_loss: 0.0328 - val_acc: 0.9918\n",
      "Epoch 43/300\n",
      " - 2s - loss: 0.0439 - acc: 0.9879 - val_loss: 0.0317 - val_acc: 0.9905\n",
      "Epoch 44/300\n",
      " - 2s - loss: 0.0459 - acc: 0.9883 - val_loss: 0.0329 - val_acc: 0.9920\n",
      "Epoch 45/300\n",
      " - 2s - loss: 0.0399 - acc: 0.9896 - val_loss: 0.0330 - val_acc: 0.9916\n",
      "Epoch 46/300\n",
      " - 2s - loss: 0.0449 - acc: 0.9889 - val_loss: 0.0332 - val_acc: 0.9916\n",
      "Epoch 47/300\n",
      " - 2s - loss: 0.0426 - acc: 0.9893 - val_loss: 0.0315 - val_acc: 0.9916\n",
      "Epoch 48/300\n",
      " - 2s - loss: 0.0428 - acc: 0.9890 - val_loss: 0.0347 - val_acc: 0.9910\n",
      "Epoch 49/300\n",
      " - 2s - loss: 0.0421 - acc: 0.9894 - val_loss: 0.0309 - val_acc: 0.9918\n",
      "Epoch 50/300\n",
      " - 2s - loss: 0.0443 - acc: 0.9888 - val_loss: 0.0342 - val_acc: 0.9914\n",
      "Epoch 51/300\n",
      " - 2s - loss: 0.0454 - acc: 0.9880 - val_loss: 0.0323 - val_acc: 0.9920\n",
      "Epoch 52/300\n",
      " - 2s - loss: 0.0341 - acc: 0.9912 - val_loss: 0.0322 - val_acc: 0.9916\n",
      "Epoch 53/300\n",
      " - 2s - loss: 0.0407 - acc: 0.9893 - val_loss: 0.0373 - val_acc: 0.9897\n",
      "Epoch 54/300\n",
      " - 2s - loss: 0.0426 - acc: 0.9895 - val_loss: 0.0334 - val_acc: 0.9907\n",
      "Epoch 55/300\n",
      " - 2s - loss: 0.0407 - acc: 0.9899 - val_loss: 0.0322 - val_acc: 0.9926\n",
      "Epoch 56/300\n",
      " - 2s - loss: 0.0405 - acc: 0.9900 - val_loss: 0.0329 - val_acc: 0.9914\n",
      "Epoch 57/300\n",
      " - 2s - loss: 0.0381 - acc: 0.9901 - val_loss: 0.0296 - val_acc: 0.9914\n",
      "Epoch 58/300\n",
      " - 2s - loss: 0.0376 - acc: 0.9906 - val_loss: 0.0298 - val_acc: 0.9916\n",
      "Epoch 59/300\n",
      " - 3s - loss: 0.0411 - acc: 0.9898 - val_loss: 0.0340 - val_acc: 0.9914\n",
      "Epoch 60/300\n",
      " - 3s - loss: 0.0387 - acc: 0.9900 - val_loss: 0.0302 - val_acc: 0.9926\n",
      "Epoch 61/300\n",
      " - 2s - loss: 0.0375 - acc: 0.9905 - val_loss: 0.0322 - val_acc: 0.9914\n",
      "Epoch 62/300\n",
      " - 2s - loss: 0.0372 - acc: 0.9903 - val_loss: 0.0310 - val_acc: 0.9926\n",
      "Epoch 63/300\n",
      " - 3s - loss: 0.0411 - acc: 0.9896 - val_loss: 0.0304 - val_acc: 0.9928\n",
      "Epoch 64/300\n",
      " - 2s - loss: 0.0362 - acc: 0.9910 - val_loss: 0.0335 - val_acc: 0.9910\n",
      "Epoch 65/300\n",
      " - 2s - loss: 0.0328 - acc: 0.9920 - val_loss: 0.0331 - val_acc: 0.9909\n",
      "Epoch 66/300\n",
      " - 3s - loss: 0.0391 - acc: 0.9901 - val_loss: 0.0344 - val_acc: 0.9924\n",
      "Epoch 67/300\n",
      " - 3s - loss: 0.0364 - acc: 0.9915 - val_loss: 0.0311 - val_acc: 0.9922\n",
      "Epoch 68/300\n",
      " - 3s - loss: 0.0406 - acc: 0.9894 - val_loss: 0.0295 - val_acc: 0.9932\n",
      "Epoch 69/300\n",
      " - 3s - loss: 0.0339 - acc: 0.9916 - val_loss: 0.0306 - val_acc: 0.9926\n",
      "Epoch 70/300\n",
      " - 2s - loss: 0.0322 - acc: 0.9912 - val_loss: 0.0327 - val_acc: 0.9907\n",
      "Epoch 71/300\n",
      " - 2s - loss: 0.0378 - acc: 0.9908 - val_loss: 0.0288 - val_acc: 0.9926\n",
      "Epoch 72/300\n",
      " - 2s - loss: 0.0315 - acc: 0.9922 - val_loss: 0.0323 - val_acc: 0.9918\n",
      "Epoch 73/300\n",
      " - 2s - loss: 0.0353 - acc: 0.9911 - val_loss: 0.0326 - val_acc: 0.9924\n",
      "Epoch 74/300\n",
      " - 2s - loss: 0.0323 - acc: 0.9923 - val_loss: 0.0308 - val_acc: 0.9924\n",
      "Epoch 75/300\n",
      " - 2s - loss: 0.0362 - acc: 0.9908 - val_loss: 0.0319 - val_acc: 0.9912\n",
      "Epoch 76/300\n",
      " - 2s - loss: 0.0359 - acc: 0.9912 - val_loss: 0.0366 - val_acc: 0.9920\n",
      "Epoch 77/300\n",
      " - 2s - loss: 0.0333 - acc: 0.9921 - val_loss: 0.0337 - val_acc: 0.9914\n",
      "Epoch 78/300\n",
      " - 2s - loss: 0.0340 - acc: 0.9915 - val_loss: 0.0330 - val_acc: 0.9914\n",
      "Epoch 79/300\n",
      " - 2s - loss: 0.0299 - acc: 0.9921 - val_loss: 0.0312 - val_acc: 0.9924\n",
      "Epoch 80/300\n",
      " - 2s - loss: 0.0347 - acc: 0.9913 - val_loss: 0.0323 - val_acc: 0.9916\n",
      "Epoch 81/300\n",
      " - 2s - loss: 0.0281 - acc: 0.9931 - val_loss: 0.0318 - val_acc: 0.9924\n",
      "Epoch 82/300\n",
      " - 2s - loss: 0.0341 - acc: 0.9916 - val_loss: 0.0337 - val_acc: 0.9928\n",
      "Epoch 83/300\n",
      " - 2s - loss: 0.0298 - acc: 0.9915 - val_loss: 0.0352 - val_acc: 0.9918\n",
      "Epoch 84/300\n",
      " - 2s - loss: 0.0328 - acc: 0.9916 - val_loss: 0.0318 - val_acc: 0.9918\n",
      "Epoch 85/300\n",
      " - 2s - loss: 0.0307 - acc: 0.9919 - val_loss: 0.0325 - val_acc: 0.9916\n",
      "Epoch 86/300\n",
      " - 2s - loss: 0.0311 - acc: 0.9922 - val_loss: 0.0326 - val_acc: 0.9922\n",
      "Epoch 87/300\n",
      " - 2s - loss: 0.0323 - acc: 0.9915 - val_loss: 0.0349 - val_acc: 0.9922\n",
      "Epoch 88/300\n",
      " - 3s - loss: 0.0332 - acc: 0.9916 - val_loss: 0.0340 - val_acc: 0.9920\n",
      "Epoch 89/300\n",
      " - 3s - loss: 0.0330 - acc: 0.9913 - val_loss: 0.0353 - val_acc: 0.9910\n",
      "Epoch 90/300\n",
      " - 3s - loss: 0.0296 - acc: 0.9924 - val_loss: 0.0345 - val_acc: 0.9903\n",
      "Epoch 91/300\n",
      " - 3s - loss: 0.0304 - acc: 0.9926 - val_loss: 0.0350 - val_acc: 0.9918\n",
      "Epoch 92/300\n",
      " - 3s - loss: 0.0300 - acc: 0.9926 - val_loss: 0.0327 - val_acc: 0.9920\n",
      "Epoch 93/300\n",
      " - 2s - loss: 0.0292 - acc: 0.9929 - val_loss: 0.0321 - val_acc: 0.9926\n",
      "Epoch 94/300\n",
      " - 2s - loss: 0.0287 - acc: 0.9930 - val_loss: 0.0339 - val_acc: 0.9916\n",
      "Epoch 95/300\n",
      " - 2s - loss: 0.0300 - acc: 0.9925 - val_loss: 0.0320 - val_acc: 0.9926\n",
      "Epoch 96/300\n",
      " - 2s - loss: 0.0303 - acc: 0.9925 - val_loss: 0.0325 - val_acc: 0.9920\n"
     ]
    },
    {
     "name": "stdout",
     "output_type": "stream",
     "text": [
      "Epoch 97/300\n",
      " - 2s - loss: 0.0288 - acc: 0.9930 - val_loss: 0.0326 - val_acc: 0.9922\n",
      "Epoch 98/300\n",
      " - 2s - loss: 0.0282 - acc: 0.9930 - val_loss: 0.0304 - val_acc: 0.9924\n",
      "Epoch 99/300\n",
      " - 2s - loss: 0.0287 - acc: 0.9927 - val_loss: 0.0331 - val_acc: 0.9918\n",
      "Epoch 100/300\n",
      " - 2s - loss: 0.0294 - acc: 0.9919 - val_loss: 0.0296 - val_acc: 0.9926\n",
      "Epoch 101/300\n",
      " - 2s - loss: 0.0307 - acc: 0.9923 - val_loss: 0.0289 - val_acc: 0.9928\n",
      "Epoch 102/300\n",
      " - 2s - loss: 0.0290 - acc: 0.9928 - val_loss: 0.0328 - val_acc: 0.9914\n",
      "Epoch 103/300\n",
      " - 2s - loss: 0.0292 - acc: 0.9925 - val_loss: 0.0307 - val_acc: 0.9928\n",
      "Epoch 104/300\n",
      " - 2s - loss: 0.0278 - acc: 0.9927 - val_loss: 0.0309 - val_acc: 0.9930\n",
      "Epoch 105/300\n",
      " - 2s - loss: 0.0316 - acc: 0.9920 - val_loss: 0.0313 - val_acc: 0.9924\n",
      "Baseline Error: 0.33%\n"
     ]
    }
   ],
   "source": [
    "model3 = model_3()\n",
    "history3 = model3.fit(X_train, y_train, validation_data=(X_test, y_test), epochs=300, batch_size=100, verbose=2, callbacks=[es])\n",
    "# Final evaluation of the model\n",
    "scores3 = model3.evaluate(X_test, y_test, verbose=0)\n",
    "print(\"Baseline Error: %.2f%%\" % (100-scores[1]*100))"
   ]
  },
  {
   "cell_type": "code",
   "execution_count": 83,
   "metadata": {},
   "outputs": [
    {
     "data": {
      "text/plain": [
       "<matplotlib.legend.Legend at 0xb319fb6a0>"
      ]
     },
     "execution_count": 83,
     "metadata": {},
     "output_type": "execute_result"
    },
    {
     "data": {
      "image/png": "[encoded data removed]",
      "text/plain": [
       "<Figure size 432x288 with 1 Axes>"
      ]
     },
     "metadata": {
      "needs_background": "light"
     },
     "output_type": "display_data"
    }
   ],
   "source": [
    "plt.figure(1)\n",
    "\n",
    "#history of accuracy\n",
    "plt.subplot(211)\n",
    "plt.plot(history3.history['acc'])\n",
    "plt.plot(history3.history['val_acc'])\n",
    "plt.title('model accuracy')\n",
    "plt.ylabel('accuracy')\n",
    "plt.xlabel('epoch')  \n",
    "plt.legend(['train', 'test'], loc='upper left')  "
   ]
  },
  {
   "cell_type": "code",
   "execution_count": 84,
   "metadata": {},
   "outputs": [
    {
     "data": {
      "image/png": "[encoded data removed]",
      "text/plain": [
       "<Figure size 432x288 with 1 Axes>"
      ]
     },
     "metadata": {
      "needs_background": "light"
     },
     "output_type": "display_data"
    }
   ],
   "source": [
    "plt.figure(1)\n",
    "\n",
    "#history of loss\n",
    "plt.subplot(212)  \n",
    "plt.plot(history3.history['loss'])  \n",
    "plt.plot(history3.history['val_loss'])  \n",
    "plt.title('model loss')  \n",
    "plt.ylabel('loss')  \n",
    "plt.xlabel('epoch')  \n",
    "plt.legend(['train', 'test'], loc='upper left')  \n",
    "plt.show()  "
   ]
  },
  {
   "cell_type": "markdown",
   "metadata": {},
   "source": [
    "With the Dropout Layer added after each FC layer the training accuracy is much lower as opposed to the validation accuracy in the first epochs. It takes much longer for the model 3 to converge compared to the model 1 and model 2. As the result Shows the overfitting is totally reduced."
   ]
  },
  {
   "cell_type": "code",
   "execution_count": 89,
   "metadata": {},
   "outputs": [
    {
     "name": "stdout",
     "output_type": "stream",
     "text": [
      "model has been saved\n"
     ]
    }
   ],
   "source": [
    "model_json = model3.to_json()\n",
    "with open(\"model.json\", \"w\") as json_file:\n",
    "    json_file.write(model_json)\n",
    "model3.save_weights(\"model_3_weights.h5\")\n",
    "print(\"model has been saved\")"
   ]
  },
  {
   "cell_type": "markdown",
   "metadata": {},
   "source": [
    "## Part 2"
   ]
  },
  {
   "cell_type": "markdown",
   "metadata": {},
   "source": [
    "1. Create a new DNN that reuses all the pretrained hidden layers of the previous model,\n",
    "freezes them, and replaces the softmax output layer with a fresh new one."
   ]
  },
  {
   "cell_type": "code",
   "execution_count": null,
   "metadata": {},
   "outputs": [],
   "source": [
    "train_mask = np.isin(y_train, list(range(5, 10)))\n",
    "test_mask = np.isin(y_test, list(range(5, 10)))"
   ]
  }
 ],
 "metadata": {
  "kernelspec": {
   "display_name": "Python 3",
   "language": "python",
   "name": "python3"
  },
  "language_info": {
   "codemirror_mode": {
    "name": "ipython",
    "version": 3
   },
   "file_extension": ".py",
   "mimetype": "text/x-python",
   "name": "python",
   "nbconvert_exporter": "python",
   "pygments_lexer": "ipython3",
   "version": "3.5.6"
  }
 },
 "nbformat": 4,
 "nbformat_minor": 2
}
